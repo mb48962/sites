{
 "cells": [
  {
   "cell_type": "code",
   "execution_count": 6,
   "metadata": {},
   "outputs": [],
   "source": [
    "import botometer\n",
    "\n",
    "mashape_key = \"uKUDX0gpUqmshZ4XfpfE2Kzh9kgSp1nqeCKjsnynmzOcFDF6lw\"\n",
    "twitter_app_auth = {\n",
    "    'consumer_key': '8btgkkENoxJGVPFhuhzWg3QDz',\n",
    "    'consumer_secret': 'ay88Z9Wqf7QFL6vDm1CLa7LpAt55EipE3ndoFlzslHuN25pfKW',\n",
    "    'access_token': '1517890854-M3KSvLUrlT4pYKc5ftehmTuCS9ukRexYnIbg9rT',\n",
    "    'access_token_secret': 'cYMY5Pehr2mKXdpmPn3K7J3xUI4Ifnfsssctdch8nsQv2',\n",
    "  }\n",
    "bom = botometer.Botometer(mashape_key=mashape_key, **twitter_app_auth)\n",
    "\n",
    "# Check a single account\n",
    "result = bom.check_account('@shredder2351')\n",
    "\n",
    "# Check a sequence of accounts\n",
    "#accounts = ['@clayadavis', '@onurvarol', '@jabawack']\n",
    "#results = list(bom.check_accounts_in(accounts))"
   ]
  },
  {
   "cell_type": "code",
   "execution_count": 7,
   "metadata": {},
   "outputs": [
    {
     "name": "stdout",
     "output_type": "stream",
     "text": [
      "{'categories': {'content': 0.46, 'friend': 0.22, 'network': 0.3, 'sentiment': 0.54, 'temporal': 0.5, 'user': 0.34}, 'scores': {'english': 0.2, 'universal': 0.29}, 'user': {'id_str': '1517890854', 'screen_name': 'shredder2351'}}\n"
     ]
    }
   ],
   "source": [
    "print (result)"
   ]
  },
  {
   "cell_type": "code",
   "execution_count": 12,
   "metadata": {},
   "outputs": [
    {
     "ename": "SyntaxError",
     "evalue": "invalid syntax (<ipython-input-12-08d5718b78fd>, line 1)",
     "output_type": "error",
     "traceback": [
      "\u001b[1;36m  File \u001b[1;32m\"<ipython-input-12-08d5718b78fd>\"\u001b[1;36m, line \u001b[1;32m1\u001b[0m\n\u001b[1;33m    jupyter nbconvert (Practicum.ipynb)\u001b[0m\n\u001b[1;37m                    ^\u001b[0m\n\u001b[1;31mSyntaxError\u001b[0m\u001b[1;31m:\u001b[0m invalid syntax\n"
     ]
    }
   ],
   "source": [
    "jupyter nbconvert Practicum.ipynb"
   ]
  },
  {
   "cell_type": "code",
   "execution_count": null,
   "metadata": {
    "collapsed": true
   },
   "outputs": [],
   "source": []
  }
 ],
 "metadata": {
  "kernelspec": {
   "display_name": "Python 3",
   "language": "python",
   "name": "python3"
  },
  "language_info": {
   "codemirror_mode": {
    "name": "ipython",
    "version": 3
   },
   "file_extension": ".py",
   "mimetype": "text/x-python",
   "name": "python",
   "nbconvert_exporter": "python",
   "pygments_lexer": "ipython3",
   "version": "3.6.1"
  }
 },
 "nbformat": 4,
 "nbformat_minor": 2
}
